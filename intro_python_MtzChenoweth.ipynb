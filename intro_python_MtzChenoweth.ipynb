{
  "cells": [
    {
      "cell_type": "markdown",
      "metadata": {
        "id": "view-in-github",
        "colab_type": "text"
      },
      "source": [
        "<a href=\"https://colab.research.google.com/github/eduardomtzchenoweth/curso_prepedeutico_CD/blob/main/intro_python_MtzChenoweth.ipynb\" target=\"_parent\"><img src=\"https://colab.research.google.com/assets/colab-badge.svg\" alt=\"Open In Colab\"/></a>"
      ]
    },
    {
      "cell_type": "markdown",
      "metadata": {
        "id": "vzchj-VH2Elr"
      },
      "source": [
        "<a href=\"https://colab.research.google.com/github/mcd-unison/material-programacion/blob/main/intro-python.ipynb\" target=\"_parent\"><img src=\"https://colab.research.google.com/assets/colab-badge.svg\" alt=\"Open In Colab\"/></a>"
      ]
    },
    {
      "cell_type": "markdown",
      "metadata": {
        "id": "c3y5mudt2Elv"
      },
      "source": [
        "<center>\n",
        "<p><img src=\"https://mcd.unison.mx/wp-content/themes/awaken/img/logo_mcd.png\" width=\"100\">\n",
        "</p>\n",
        "\n",
        "\n",
        "\n",
        "# Curso Propedéutico en *Programación*\n",
        "\n",
        "## Introducción a `python` resolviendo preguntas\n",
        "\n",
        "\n",
        "**Julio Waissman Vilanova**\n",
        "\n"
      ]
    },
    {
      "cell_type": "markdown",
      "metadata": {
        "id": "xFtRqgid2Elw"
      },
      "source": [
        "### Tipos\n",
        "\n",
        "¿Cuales son los tipos de datos básicos? Revisa los tipos siguientes:\n",
        "\n",
        "1. Tipos numéricos `int`, `float`, `complex`\n",
        "2. Cadenas de caracteres\n",
        "3. Tuplas\n",
        "4. Listas\n",
        "5. Diccionarios\n",
        "6. Conjuntos\n",
        "\n",
        "Da ejemplo de sobrecarga de operadores (en particular `+` y `*`)\n",
        "\n"
      ]
    },
    {
      "cell_type": "code",
      "execution_count": null,
      "metadata": {
        "id": "JOItdD7n2Elw",
        "colab": {
          "base_uri": "https://localhost:8080/"
        },
        "outputId": "b418810d-1f8c-4dc5-810d-56bef0501f8c"
      },
      "outputs": [
        {
          "output_type": "stream",
          "name": "stdout",
          "text": [
            "10\n",
            "10\n",
            "12\n",
            "12\n"
          ]
        }
      ],
      "source": [
        "numero = 5\n",
        "numero.__add__(5)\n",
        "print(numero.__add__(5))\n",
        "print(5 + 5)\n",
        "\n",
        "numero = 4\n",
        "numero.__mul__(3)\n",
        "print(numero.__mul__(3))\n",
        "print(4 * 3)"
      ]
    },
    {
      "cell_type": "markdown",
      "metadata": {
        "id": "dPV1Xt9j2Elx"
      },
      "source": [
        "¿Que significa que unos tipos sean *mutables* y otros *inmutables*?\n",
        "\n",
        "Realiza un pequeño programa donde quede claro lo que significa que un tipo de datos sea mutable, e ilustra el uso del método `copy.deepcopy()`."
      ]
    },
    {
      "cell_type": "markdown",
      "source": [
        "### RESPUESTA A ***¿Que significa que unos tipos sean mutables y otros inmutables?***\n",
        "Un tipo mutable son valores los cuales puedes modificar (listas, diccionarios), por otra parte, los inmutables son aquellos que una vez creados no se pueden modificar (enteros, cadenas)."
      ],
      "metadata": {
        "id": "-9cFtDRs99-o"
      }
    },
    {
      "cell_type": "code",
      "execution_count": null,
      "metadata": {
        "id": "7OWFzIAm2Elx",
        "colab": {
          "base_uri": "https://localhost:8080/"
        },
        "outputId": "2ab1ce89-a05c-4d02-c3b0-bf687f3cd6b5"
      },
      "outputs": [
        {
          "output_type": "stream",
          "name": "stdout",
          "text": [
            "**************MUTABLES*************\n",
            "{'nombre': 'Rodrigo', 'edad': 30}\n",
            "{'nombre': 'Rodrigo', 'edad': 30}\n",
            "*************INMUTABLES************\n",
            "Este valor no deberia de cambiar\n",
            "cambiando cadena...\n",
            "**************DEEPCOPY*************\n",
            "{'nombre': 'Miguel', 'edad': 30}\n",
            "{'nombre': 'Rodrigo', 'edad': 30}\n"
          ]
        }
      ],
      "source": [
        "import copy\n",
        "#MUTABLES\n",
        "persona1 = {\"nombre\":\"Miguel\", \"edad\":30}\n",
        "persona2 = persona1\n",
        "persona2[\"nombre\"]=\"Rodrigo\"\n",
        "print(\"MUTABLES\".center(35,\"*\"))\n",
        "print(persona1)\n",
        "print(persona2)\n",
        "\n",
        "#INMUTABLES\n",
        "cadena1 = \"Este valor no deberia de cambiar\"\n",
        "cadena2 = cadena1\n",
        "cadena2 = \"cambiando cadena...\"\n",
        "print(\"INMUTABLES\".center(35,\"*\"))\n",
        "print(cadena1)\n",
        "print(cadena2)\n",
        "\n",
        "#DEEPCOPY\n",
        "persona1 = {\"nombre\":\"Miguel\", \"edad\":30}\n",
        "persona2 = copy.deepcopy(persona1)\n",
        "persona2[\"nombre\"]=\"Rodrigo\"\n",
        "print(\"DEEPCOPY\".center(35,\"*\"))\n",
        "print(persona1)\n",
        "print(persona2)"
      ]
    },
    {
      "cell_type": "markdown",
      "metadata": {
        "id": "-kCH4_9q2Elx"
      },
      "source": [
        "### *Comprehension* de listas, conjuntos y diccionarios\n",
        "\n",
        "Escribe, en una sola linea, una expresión que genere una lista con todos los números enteros que se encuentran entre $1$ y $n$\n",
        "que sean divisibles por $3$ y $7$ y que el dígito menos significativo del número sea $6$."
      ]
    },
    {
      "cell_type": "code",
      "execution_count": null,
      "metadata": {
        "id": "PZkixc1D2Ely",
        "colab": {
          "base_uri": "https://localhost:8080/"
        },
        "outputId": "f571d5df-023c-4eb2-f29c-34f289ea9720"
      },
      "outputs": [
        {
          "output_type": "stream",
          "name": "stdout",
          "text": [
            "[126, 336, 546, 756, 966, 1176, 1386, 1596, 1806, 2016, 2226, 2436, 2646, 2856, 3066, 3276, 3486, 3696, 3906, 4116, 4326, 4536, 4746, 4956, 5166, 5376, 5586, 5796, 6006, 6216, 6426, 6636, 6846, 7056, 7266, 7476, 7686, 7896, 8106, 8316, 8526, 8736, 8946, 9156, 9366, 9576, 9786, 9996]\n"
          ]
        }
      ],
      "source": [
        "n = 10_000\n",
        "# Escribe aqui el *one linner*\n",
        "print([x for x in range(1,10000,1) if x % 3 == 0 and x % 7 == 0 and x % 10 == 6])"
      ]
    },
    {
      "cell_type": "markdown",
      "metadata": {
        "id": "4W9GACxJ2Elz"
      },
      "source": [
        "### Funciones\n",
        "\n",
        "Escribe una función que:\n",
        "\n",
        "1. reciba una lista de elementos (letras, números, lo que sea),\n",
        "2. cuente la ocurrencia de cada elemento en la lista,\n",
        "3. devuelva las ocurrencias en forma de diccionario,\n",
        "4. si imprime es True, imprima un histograma de ocurrencias, por ejemplo:\n",
        "\n",
        "```python\n",
        "\n",
        "lista = [1,'a',1, 13, 'hola', 'a', 1, 1, 'a', 1]\n",
        "\n",
        "d = funcion_ejemplo(lista, imprime = True)\n",
        "\n",
        "1    \t\t***** \t(5 -> 50%)\n",
        "'a'  \t\t***   \t(3 -> 30%)\n",
        "13\t\t*\t(1 -> 10%)\n",
        "'hola'\t\t*\t(1 -> 10%)\n",
        "\n",
        "```"
      ]
    },
    {
      "cell_type": "code",
      "execution_count": null,
      "metadata": {
        "id": "45CSoWHL2El0"
      },
      "outputs": [],
      "source": [
        "# Escribe la función aquí\n",
        "def funcionContar(lista=[], imprime=False):\n",
        "  hash = {}\n",
        "  for x in lista:\n",
        "    hash[x] = lista.count(x)\n",
        "  if(imprime):\n",
        "    for (key,val) in hash.items():\n",
        "      print(f\"{key}:\\t{val * '*'}\\t{val} -> {val/len(lista)*100}%\")\n"
      ]
    },
    {
      "cell_type": "code",
      "execution_count": null,
      "metadata": {
        "id": "Sb_jJ7-f2El0",
        "outputId": "b67d84e9-73a2-4e1b-cee0-59e9f5b1497a",
        "colab": {
          "base_uri": "https://localhost:8080/"
        }
      },
      "outputs": [
        {
          "output_type": "stream",
          "name": "stdout",
          "text": [
            "1:\t*****\t5 -> 50.0%\n",
            "a:\t***\t3 -> 30.0%\n",
            "13:\t*\t1 -> 10.0%\n",
            "hola:\t*\t1 -> 10.0%\n"
          ]
        }
      ],
      "source": [
        "# Realiza pruebas aquí\n",
        "lista = [1,'a',1, 13, 'hola', 'a', 1, 1, 'a', 1]\n",
        "d = funcionContar(lista, imprime = True)"
      ]
    },
    {
      "cell_type": "markdown",
      "metadata": {
        "id": "cHdRxWso2El0"
      },
      "source": [
        "Escribe una función que modifique un diccionario y regrese el diccionario modificado y una copia del original, donde cada entrada\n",
        "del diccionario sea una lista de valores. Ten en cuenta que si una entrada del diccionario es de tipo mutable, al modificarlo en la\n",
        "copia se modifica el original. Utiliza el modulo `copy` para evitar este problema. Ejemplo de la función:\n",
        "\n",
        "```python\n",
        "dic1 = {'Pepe':[12, 'enero', 1980], 'Carolina':[15,'mayo',1975],'Paco':[10,'nov',1970]}\n",
        "dic2 = fundicos(dic1, 'Pepe', 1, 'febrero')\n",
        "\n",
        "print(dic1)\n",
        "{'Pepe':[12, 'enero', 1980], 'Carolina':[15,'mayo',1975],'Paco':[10,'nov',1970]}\n",
        "\n",
        "print(dic2)\n",
        "{'Pepe':[12, 'febrero', 1980], 'Carolina':[15,'mayo',1975],'Paco':[10,'nov',1970]}\n",
        "```"
      ]
    },
    {
      "cell_type": "code",
      "execution_count": null,
      "metadata": {
        "id": "GOQG2hMg2El1"
      },
      "outputs": [],
      "source": [
        "# Escribe la función fundicos aquí\n",
        "import copy\n",
        "def fundicos(dicToModify, entrada, dia=None, mes=None, año=None):\n",
        "  dic = copy.deepcopy(dicToModify)\n",
        "  if(dia): dic[entrada][0]=dia\n",
        "  if(mes): dic[entrada][1]=mes\n",
        "  if(año): dic[entrada][2]=año\n",
        "\n",
        "  return [dicToModify,dic]\n"
      ]
    },
    {
      "cell_type": "code",
      "execution_count": null,
      "metadata": {
        "id": "XjrkA1GM2El1",
        "outputId": "4dbcbdd7-e163-404c-84c1-f32634429224",
        "colab": {
          "base_uri": "https://localhost:8080/"
        }
      },
      "outputs": [
        {
          "output_type": "stream",
          "name": "stdout",
          "text": [
            "{'Pepe': [12, 'enero', 1980], 'Carolina': [15, 'mayo', 1975], 'Paco': [10, 'nov', 1970]}\n",
            "Original:{'Pepe': [12, 'enero', 1980], 'Carolina': [15, 'mayo', 1975], 'Paco': [10, 'nov', 1970]}\n",
            "Modificado:{'Pepe': [1, 'febrero', 1980], 'Carolina': [15, 'mayo', 1975], 'Paco': [10, 'nov', 1970]}\n"
          ]
        }
      ],
      "source": [
        "# Realiza pruebas de fundicos aquí\n",
        "dic1 = {'Pepe':[12, 'enero', 1980], 'Carolina':[15,'mayo',1975],'Paco':[10,'nov',1970]}\n",
        "dic2 = fundicos(dic1, 'Pepe', 1, 'febrero')\n",
        "\n",
        "print(dic1)\n",
        "print(f\"Original:{dic2[0]}\\nModificado:{dic2[1]}\")"
      ]
    },
    {
      "cell_type": "markdown",
      "metadata": {
        "id": "jQUp8xpC2El1"
      },
      "source": [
        "### Generadores\n",
        "\n",
        "Escribe un generador que reciba una lista y genere todas las permutaciones que se puedan hacer con los elementos de la lista"
      ]
    },
    {
      "cell_type": "code",
      "execution_count": null,
      "metadata": {
        "id": "Oi4XrRCg2El1"
      },
      "outputs": [],
      "source": [
        "# Escribe aqui fun1\n",
        "\n",
        "def permutaciones(lista):\n",
        "    \"\"\"\n",
        "    Permutaciones de los elementos de una lista.\n",
        "\n",
        "    Devuelve un generador con todas las permutaciones posibles de los elementos de la lista de entrada\n",
        "    \"\"\"\n",
        "    #TODO: Implementar la función\n",
        "    if(len(lista)==1): return [str(lista[0])]\n",
        "\n",
        "    listaPermutacionesRecursiva = permutaciones(lista[1:])\n",
        "    caracter = lista[0]\n",
        "    listaPermutaciones = []\n",
        "    for permutacion in listaPermutacionesRecursiva :\n",
        "      for i in range(len(permutacion) + 1):\n",
        "        listaPermutaciones.append(str(permutacion[:i]) + str(caracter) + str(permutacion[i:]))\n",
        "\n",
        "    return listaPermutaciones\n",
        "\n"
      ]
    },
    {
      "cell_type": "code",
      "execution_count": null,
      "metadata": {
        "id": "NY0m3Y8j2El2",
        "outputId": "7ed9545d-863a-4e90-ec0b-86f80fa8784c",
        "colab": {
          "base_uri": "https://localhost:8080/"
        }
      },
      "outputs": [
        {
          "output_type": "stream",
          "name": "stdout",
          "text": [
            "abcd\n",
            "bacd\n",
            "bcad\n",
            "bcda\n",
            "acbd\n",
            "cabd\n",
            "cbad\n",
            "cbda\n",
            "acdb\n",
            "cadb\n",
            "cdab\n",
            "cdba\n",
            "abdc\n",
            "badc\n",
            "bdac\n",
            "bdca\n",
            "adbc\n",
            "dabc\n",
            "dbac\n",
            "dbca\n",
            "adcb\n",
            "dacb\n",
            "dcab\n",
            "dcba\n"
          ]
        }
      ],
      "source": [
        "# Realiza pruebas de fun2 aquí\n",
        "for p in permutaciones(['a', 'b', 'c', 'd']):\n",
        "    print(p)"
      ]
    },
    {
      "cell_type": "markdown",
      "metadata": {
        "id": "kH-p9ibP2El2"
      },
      "source": [
        "Ahora escribe una funcipn que reciba 4 digitos del 0 al 9, y devuelva una lista con todas las horas váidas que se puedan hacer con estos dígitos en forma de lista de strings con la forma `\"HH:MM\"`."
      ]
    },
    {
      "cell_type": "code",
      "execution_count": null,
      "metadata": {
        "id": "PAxUlklH2El2"
      },
      "outputs": [],
      "source": [
        "def horas_validas(lista):\n",
        "    \"\"\"\n",
        "    Docstring a comentar correctamente\n",
        "    \"\"\"\n",
        "    return [(f\"{int(permutacion[0])*10 + int(permutacion[1])}:{int(permutacion[2])*10 + int(permutacion[3])}\") for permutacion in permutaciones(lista)\n",
        "      if( int(permutacion[0])*10 + int(permutacion[1]) < 24 and int(permutacion[2])*10 + int(permutacion[3]) < 60)]\n",
        "\n",
        "    #TODO: Implementar la función"
      ]
    },
    {
      "cell_type": "markdown",
      "metadata": {
        "id": "7uDyEbz_2El2"
      },
      "source": [
        "Validando:"
      ]
    },
    {
      "cell_type": "code",
      "execution_count": null,
      "metadata": {
        "id": "jE7FBThb2El2",
        "colab": {
          "base_uri": "https://localhost:8080/"
        },
        "outputId": "d06772d6-8632-4b92-e098-751936423e83"
      },
      "outputs": [
        {
          "output_type": "stream",
          "name": "stdout",
          "text": [
            "['12:37', '21:37', '23:17', '13:27', '17:23', '17:32']\n"
          ]
        }
      ],
      "source": [
        "aa = horas_validas([1,2,3,7])\n",
        "print(aa)"
      ]
    },
    {
      "cell_type": "markdown",
      "metadata": {
        "id": "L-ITJOFO2El3"
      },
      "source": [
        "Escribe una función, lo más compacta posible, que escoja entre los 3 patrones ascii a continuación, e imprima en pantalla\n",
        "el deseado, pero de dimensión $n$ ($n \\ge 4$), toma en cuanta que para algunos valores de $n$ habrá\n",
        "algún(os) patrones que no se puedan hacer.\n",
        "\n",
        "```\n",
        "          *             ++++           oooooooo\n",
        "          **            ++++           ooo  ooo\n",
        "          ***           ++++           oo    oo\n",
        "          ****          ++++           o      o\n",
        "          *****             ++++       o      o\n",
        "          ******            ++++       oo    oo\n",
        "          *******           ++++       ooo  ooo\n",
        "          ********          ++++       oooooooo\n",
        "\n",
        "```"
      ]
    },
    {
      "cell_type": "code",
      "execution_count": null,
      "metadata": {
        "id": "YhMAiR_s2El3"
      },
      "outputs": [],
      "source": [
        "# Escribe aquí la función\n",
        "def imprimir_patrones(patron,numero):\n",
        "  if numero < 4: print(\"Necesita ser un numero mayor a 4\")\n",
        "  elif patron==\"*\":\n",
        "    for x in range(numero+1):\n",
        "      print(\"*\" * x)\n",
        "  elif patron==\"+\":\n",
        "    for x in range(numero*2):\n",
        "      if(numero <= x):\n",
        "        print(\" \"*numero + \"+\"*numero)\n",
        "      else:\n",
        "        print(\"+\" * numero)\n",
        "  elif patron==\"o\":\n",
        "    if(numero%2==0):\n",
        "      spaces=0\n",
        "      for x in range(numero, 0, -1):\n",
        "        print(\"o\"*x + \"  \"*spaces + \"o\"*x)\n",
        "        spaces += 1\n",
        "\n",
        "      spaces = numero - 1\n",
        "\n",
        "      for x in range(1, numero+1, 1):\n",
        "        print(\"o\"*x + \"  \"*spaces + \"o\"*x)\n",
        "        spaces -= 1\n",
        "    else:\n",
        "      print(\"Este patron se puede realizar unicamente con numeros pares\")\n",
        "  else:\n",
        "    print(\"Seleccione una opcion valida (*, +, o)\")\n",
        "\n"
      ]
    },
    {
      "cell_type": "code",
      "execution_count": null,
      "metadata": {
        "id": "5kt7X1v92El3",
        "colab": {
          "base_uri": "https://localhost:8080/"
        },
        "outputId": "15595652-29e4-40e7-b7b8-c8dbffc821b4"
      },
      "outputs": [
        {
          "output_type": "stream",
          "name": "stdout",
          "text": [
            "oooooooo\n",
            "ooo  ooo\n",
            "oo    oo\n",
            "o      o\n",
            "o      o\n",
            "oo    oo\n",
            "ooo  ooo\n",
            "oooooooo\n",
            "+++++\n",
            "+++++\n",
            "+++++\n",
            "+++++\n",
            "+++++\n",
            "     +++++\n",
            "     +++++\n",
            "     +++++\n",
            "     +++++\n",
            "     +++++\n",
            "\n",
            "*\n",
            "**\n",
            "***\n",
            "****\n",
            "*****\n",
            "******\n"
          ]
        }
      ],
      "source": [
        "#Realiza pruebas aquí\n",
        "imprimir_patrones(\"o\",4)\n",
        "imprimir_patrones(\"+\",5)\n",
        "imprimir_patrones(\"*\",6)"
      ]
    },
    {
      "cell_type": "markdown",
      "metadata": {
        "id": "V-Xj77dX2El3"
      },
      "source": [
        "### Clases y objetos\n",
        "\n",
        "Diseña una clase Matriz con las siguientes características:\n",
        "\n",
        "1. Como inicialización de un objeto es necesario conocer $n$, $m$ y tipo. En caso de no proporcionar $m$ la matriz se asume cuadrada de $n \\times n$. En caso de no proporcionar $n$ la matriz tendrá una dimensión de $1 \\times 1$.\n",
        "2. De no especificarse todos los elementos se inicializan a 0, a menos que exista un tipo especial ( `unos` o `diag` por el momento).\n",
        "3. Implementa con sobrecarga la suma de matrices, la multiplicación de matrices y la multiplicación por un escalar.\n",
        "4. Implementa como métodos eliminar columna y eliminar fila.   \n",
        "5. Programa la representación visual de la matriz.\n",
        "6. Ten en cuenta tambien el manejo de errores.\n",
        "\n",
        "\n",
        "Ejemplo de uso:\n",
        "\n",
        "```\n",
        ">>> A = Matriz(n=3, m=4)\n",
        "\n",
        ">>> print(A)\n",
        "0 0 0 0\n",
        "0 0 0 0\n",
        "0 0 0 0\n",
        "\n",
        ">>> A = A.quitafila(2)\n",
        "\n",
        ">>> print(A)\n",
        "0 0 0 0\n",
        "0 0 0 0\n",
        "\n",
        ">>> B = Matriz(4,4,'diag')\n",
        "\n",
        ">>> print(B)\n",
        "1 0 0 0\n",
        "0 1 0 0\n",
        "0 0 1 0\n",
        "0 0 0 1\n",
        "\n",
        ">>> C = Matriz(4,1,'unos')\n",
        "\n",
        ">>> print(C)\n",
        "1\n",
        "1\n",
        "1\n",
        "1\n",
        "\n",
        ">>> D = 3 * B * C\n",
        "\n",
        ">>> print(D)\n",
        "3\n",
        "3\n",
        "3\n",
        "3\n",
        "\n",
        ">>> E = 3 * B + C\n",
        "error \"No seas menso, si no son de la misma dimensión las matrices no se pueden sumar\"\n",
        "```"
      ]
    },
    {
      "cell_type": "code",
      "execution_count": null,
      "metadata": {
        "id": "wkY1TrnR2El4"
      },
      "outputs": [],
      "source": [
        "# Desarrolla aqui la clase\n",
        "class Matriz:\n",
        "  def __init__(self, n=None, m=None, tipo=None, array=None):\n",
        "    self.n = n\n",
        "    self.m = m\n",
        "    self.tipo = tipo\n",
        "    if(array != None):\n",
        "      self.n = len(array)\n",
        "      self.m = len(array[0])\n",
        "      self.matriz = [[elemento for elemento in fila] for fila in array]\n",
        "    elif(tipo == \"diag\"):\n",
        "      if(self.n != self.m):\n",
        "        raise TypeError(\"Diagonal no válida. Para poder hacer una diagonal tiene que ser una matriz cuadrada.\")\n",
        "      self.matriz = [[1 if indiceElemento==indiceFila else 0 for indiceElemento in range(m)] for indiceFila in range(n)]\n",
        "    elif(tipo == \"unos\"):\n",
        "      self.matriz = [[1 for _ in range(m)] for _ in range(n)]\n",
        "    else:\n",
        "      self.matriz = [[0 for _ in range(m)] for _ in range(n)]\n",
        "\n",
        "  def __matriz_formateo(self):\n",
        "    string = \"\\n\"\n",
        "    for fila in self.matriz:\n",
        "      for elemento in fila:\n",
        "        string += str(elemento) + \" \"\n",
        "      string += \"\\n\"\n",
        "    return string\n",
        "\n",
        "  def __matriz_mult(self,matriz1, matriz2=None, escalar=None):\n",
        "    if(escalar!=None):\n",
        "      return Matriz(array=[[elemento*escalar for elemento in filas] for filas in matriz1.matriz]);\n",
        "    elif(matriz2 != None):\n",
        "      resultado = [[0 for _ in range(matriz1.m)] for _ in range(matriz2.n)]\n",
        "      for i in range(matriz1.n):\n",
        "        for j in range(matriz2.m):\n",
        "          for k in range(matriz1.m):\n",
        "            resultado[i][j] += matriz1.matriz[i][k] * matriz2.matriz[k][j]\n",
        "\n",
        "      return Matriz(array=resultado)\n",
        "\n",
        "  def __verificar_matriz_mult(self,matriz1, matriz2):\n",
        "    if(isinstance(matriz1, Matriz) and isinstance(matriz2, Matriz)):\n",
        "        if(matriz1.m != matriz2.n):\n",
        "          raise TypeError(\"Multiplicación no válida. Las columnas de la primera matriz no son iguales a las filas de la segunda matriz.\")\n",
        "\n",
        "  def __str__(self):\n",
        "    return self.__matriz_formateo()\n",
        "\n",
        "  def quitafila(self, numeroFila):\n",
        "    del self.matriz[numeroFila-1]\n",
        "    return self\n",
        "\n",
        "  def quitacolumna(self, numerocolumna):\n",
        "    for fila in range(0,self.n,1):\n",
        "        del self.matriz[fila][numerocolumna-1]\n",
        "    return self\n",
        "\n",
        "  def __mul__(self,otro):\n",
        "      self.__verificar_matriz_mult(self,otro)\n",
        "      if(isinstance(otro, int)):\n",
        "        return self.__matriz_mult(self,None,otro)\n",
        "      elif(isinstance(otro, Matriz)):\n",
        "        return self.__matriz_mult(self,otro)\n",
        "      else:\n",
        "        raise TypeError(\"Favor de proporcionar tipos de valores validos.\")\n",
        "\n",
        "  def __rmul__(self,otro):\n",
        "      self.__verificar_matriz_mult(otro,self)\n",
        "      if(isinstance(otro, int)):\n",
        "        return self.__matriz_mult(self,None,otro)\n",
        "      elif(isinstance(otro, Matriz)):\n",
        "        return self.__matriz_mult(otro,self)\n",
        "      else:\n",
        "        return self.__matriz_mult(otro);\n",
        "\n",
        "  def __add__(self,otro):\n",
        "    if(self.n != otro.n or self.m != otro.m) :\n",
        "      raise TypeError(\"No seas menso, si no son de la misma dimensión las matrices no se pueden sumar\")\n",
        "    resultado = [[0 for _ in range(self.m)] for _ in range(self.n)]\n",
        "    for i in range(0,self.n,1):\n",
        "      for j in range(0,self.m,1):\n",
        "        resultado[i][j] += self.matriz[i][j] + otro.matriz[i][j]\n",
        "    return Matriz(array=resultado)\n",
        "\n",
        "\n",
        "\n",
        "\n",
        "\n",
        "\n",
        "\n",
        "\n"
      ]
    },
    {
      "cell_type": "code",
      "execution_count": null,
      "metadata": {
        "id": "iCNW55iQ2El4",
        "colab": {
          "base_uri": "https://localhost:8080/"
        },
        "outputId": "5b68a94a-c240-430a-bb3e-73c8d52db2da"
      },
      "outputs": [
        {
          "output_type": "stream",
          "name": "stdout",
          "text": [
            "A = \n",
            "0 0 0 0 \n",
            "0 0 0 0 \n",
            "0 0 0 0 \n",
            "\n",
            "A =  \n",
            "1 0 0 0 \n",
            "0 1 0 0 \n",
            "0 0 1 0 \n",
            "0 0 0 1 \n",
            "0 0 0 0 \n",
            "\n",
            "B =  \n",
            "1 0 0 0 \n",
            "0 1 0 0 \n",
            "0 0 1 0 \n",
            "0 0 0 1 \n",
            "\n",
            "C = \n",
            "1 \n",
            "1 \n",
            "1 \n",
            "1 \n",
            "\n",
            "D =  \n",
            "3 0 0 0 \n",
            "3 0 0 0 \n",
            "3 0 0 0 \n",
            "3 0 0 0 \n",
            "\n",
            "E =  \n",
            "6 0 0 0 \n",
            "3 3 0 0 \n",
            "3 0 3 0 \n",
            "3 0 0 3 \n",
            "\n"
          ]
        }
      ],
      "source": [
        "# Realiza las pruebas a la clase aquí\n",
        "\n",
        "A = Matriz(n=3, m=4)\n",
        "print('A =', A)\n",
        "\n",
        "A = Matriz(n=5, m=5,tipo='diag')\n",
        "A = A.quitacolumna(5)\n",
        "print('A = ', A)\n",
        "\n",
        "B = Matriz(4,4,'diag')\n",
        "print('B = ', B)\n",
        "\n",
        "C = Matriz(4,1,'unos')\n",
        "print('C =', C)\n",
        "\n",
        "D = 3 * B * C\n",
        "print('D = ', D)\n",
        "\n",
        "E = 3 * B + D\n",
        "print('E = ', E)"
      ]
    },
    {
      "cell_type": "markdown",
      "source": [
        "## **Manejo de errores**"
      ],
      "metadata": {
        "id": "AWO10P-OFIwe"
      }
    },
    {
      "cell_type": "code",
      "source": [
        "#DIAGONAL NO VALIDA\n",
        "A = Matriz(n=3, m=4, tipo=\"diag\")\n",
        "print('A =', A)"
      ],
      "metadata": {
        "colab": {
          "base_uri": "https://localhost:8080/",
          "height": 293
        },
        "id": "CHPrDOq4FMIZ",
        "outputId": "236b41ac-2349-4e42-81fa-be1c4b483523"
      },
      "execution_count": null,
      "outputs": [
        {
          "output_type": "error",
          "ename": "TypeError",
          "evalue": "Diagonal no válida. Para poder hacer una diagonal tiene que ser una matriz cuadrada.",
          "traceback": [
            "\u001b[0;31m---------------------------------------------------------------------------\u001b[0m",
            "\u001b[0;31mTypeError\u001b[0m                                 Traceback (most recent call last)",
            "\u001b[0;32m<ipython-input-78-7da9e832d7ce>\u001b[0m in \u001b[0;36m<cell line: 1>\u001b[0;34m()\u001b[0m\n\u001b[0;32m----> 1\u001b[0;31m \u001b[0mA\u001b[0m \u001b[0;34m=\u001b[0m \u001b[0mMatriz\u001b[0m\u001b[0;34m(\u001b[0m\u001b[0mn\u001b[0m\u001b[0;34m=\u001b[0m\u001b[0;36m3\u001b[0m\u001b[0;34m,\u001b[0m \u001b[0mm\u001b[0m\u001b[0;34m=\u001b[0m\u001b[0;36m4\u001b[0m\u001b[0;34m,\u001b[0m \u001b[0mtipo\u001b[0m\u001b[0;34m=\u001b[0m\u001b[0;34m\"diag\"\u001b[0m\u001b[0;34m)\u001b[0m\u001b[0;34m\u001b[0m\u001b[0;34m\u001b[0m\u001b[0m\n\u001b[0m\u001b[1;32m      2\u001b[0m \u001b[0mprint\u001b[0m\u001b[0;34m(\u001b[0m\u001b[0;34m'A ='\u001b[0m\u001b[0;34m,\u001b[0m \u001b[0mA\u001b[0m\u001b[0;34m)\u001b[0m\u001b[0;34m\u001b[0m\u001b[0;34m\u001b[0m\u001b[0m\n",
            "\u001b[0;32m<ipython-input-75-e12b41629a19>\u001b[0m in \u001b[0;36m__init__\u001b[0;34m(self, n, m, tipo, array)\u001b[0m\n\u001b[1;32m     11\u001b[0m     \u001b[0;32melif\u001b[0m\u001b[0;34m(\u001b[0m\u001b[0mtipo\u001b[0m \u001b[0;34m==\u001b[0m \u001b[0;34m\"diag\"\u001b[0m\u001b[0;34m)\u001b[0m\u001b[0;34m:\u001b[0m\u001b[0;34m\u001b[0m\u001b[0;34m\u001b[0m\u001b[0m\n\u001b[1;32m     12\u001b[0m       \u001b[0;32mif\u001b[0m\u001b[0;34m(\u001b[0m\u001b[0mself\u001b[0m\u001b[0;34m.\u001b[0m\u001b[0mn\u001b[0m \u001b[0;34m!=\u001b[0m \u001b[0mself\u001b[0m\u001b[0;34m.\u001b[0m\u001b[0mm\u001b[0m\u001b[0;34m)\u001b[0m\u001b[0;34m:\u001b[0m\u001b[0;34m\u001b[0m\u001b[0;34m\u001b[0m\u001b[0m\n\u001b[0;32m---> 13\u001b[0;31m         \u001b[0;32mraise\u001b[0m \u001b[0mTypeError\u001b[0m\u001b[0;34m(\u001b[0m\u001b[0;34m\"Diagonal no válida. Para poder hacer una diagonal tiene que ser una matriz cuadrada.\"\u001b[0m\u001b[0;34m)\u001b[0m\u001b[0;34m\u001b[0m\u001b[0;34m\u001b[0m\u001b[0m\n\u001b[0m\u001b[1;32m     14\u001b[0m       \u001b[0mself\u001b[0m\u001b[0;34m.\u001b[0m\u001b[0mmatriz\u001b[0m \u001b[0;34m=\u001b[0m \u001b[0;34m[\u001b[0m\u001b[0;34m[\u001b[0m\u001b[0;36m1\u001b[0m \u001b[0;32mif\u001b[0m \u001b[0mindiceElemento\u001b[0m\u001b[0;34m==\u001b[0m\u001b[0mindiceFila\u001b[0m \u001b[0;32melse\u001b[0m \u001b[0;36m0\u001b[0m \u001b[0;32mfor\u001b[0m \u001b[0mindiceElemento\u001b[0m \u001b[0;32min\u001b[0m \u001b[0mrange\u001b[0m\u001b[0;34m(\u001b[0m\u001b[0mm\u001b[0m\u001b[0;34m)\u001b[0m\u001b[0;34m]\u001b[0m \u001b[0;32mfor\u001b[0m \u001b[0mindiceFila\u001b[0m \u001b[0;32min\u001b[0m \u001b[0mrange\u001b[0m\u001b[0;34m(\u001b[0m\u001b[0mn\u001b[0m\u001b[0;34m)\u001b[0m\u001b[0;34m]\u001b[0m\u001b[0;34m\u001b[0m\u001b[0;34m\u001b[0m\u001b[0m\n\u001b[1;32m     15\u001b[0m     \u001b[0;32melif\u001b[0m\u001b[0;34m(\u001b[0m\u001b[0mtipo\u001b[0m \u001b[0;34m==\u001b[0m \u001b[0;34m\"unos\"\u001b[0m\u001b[0;34m)\u001b[0m\u001b[0;34m:\u001b[0m\u001b[0;34m\u001b[0m\u001b[0;34m\u001b[0m\u001b[0m\n",
            "\u001b[0;31mTypeError\u001b[0m: Diagonal no válida. Para poder hacer una diagonal tiene que ser una matriz cuadrada."
          ]
        }
      ]
    },
    {
      "cell_type": "code",
      "source": [
        "#MULTIPLICACION NO VALIDA POR DIMENSIONES NO COMPATIBLES\n",
        "A * B"
      ],
      "metadata": {
        "colab": {
          "base_uri": "https://localhost:8080/",
          "height": 298
        },
        "id": "XkMZqLrmFRNr",
        "outputId": "148fec74-c9c0-4a21-e286-0044492e58d3"
      },
      "execution_count": null,
      "outputs": [
        {
          "output_type": "error",
          "ename": "TypeError",
          "evalue": "Multiplicación no válida. Las columnas de la primera matriz no son iguales a las filas de la segunda matriz.",
          "traceback": [
            "\u001b[0;31m---------------------------------------------------------------------------\u001b[0m",
            "\u001b[0;31mTypeError\u001b[0m                                 Traceback (most recent call last)",
            "\u001b[0;32m<ipython-input-80-a4cedde81ed0>\u001b[0m in \u001b[0;36m<cell line: 1>\u001b[0;34m()\u001b[0m\n\u001b[0;32m----> 1\u001b[0;31m \u001b[0mA\u001b[0m \u001b[0;34m*\u001b[0m \u001b[0mB\u001b[0m\u001b[0;34m\u001b[0m\u001b[0;34m\u001b[0m\u001b[0m\n\u001b[0m",
            "\u001b[0;32m<ipython-input-75-e12b41629a19>\u001b[0m in \u001b[0;36m__mul__\u001b[0;34m(self, otro)\u001b[0m\n\u001b[1;32m     56\u001b[0m \u001b[0;34m\u001b[0m\u001b[0m\n\u001b[1;32m     57\u001b[0m   \u001b[0;32mdef\u001b[0m \u001b[0m__mul__\u001b[0m\u001b[0;34m(\u001b[0m\u001b[0mself\u001b[0m\u001b[0;34m,\u001b[0m\u001b[0motro\u001b[0m\u001b[0;34m)\u001b[0m\u001b[0;34m:\u001b[0m\u001b[0;34m\u001b[0m\u001b[0;34m\u001b[0m\u001b[0m\n\u001b[0;32m---> 58\u001b[0;31m       \u001b[0mself\u001b[0m\u001b[0;34m.\u001b[0m\u001b[0m__verificar_matriz_mult\u001b[0m\u001b[0;34m(\u001b[0m\u001b[0mself\u001b[0m\u001b[0;34m,\u001b[0m\u001b[0motro\u001b[0m\u001b[0;34m)\u001b[0m\u001b[0;34m\u001b[0m\u001b[0;34m\u001b[0m\u001b[0m\n\u001b[0m\u001b[1;32m     59\u001b[0m       \u001b[0;32mif\u001b[0m\u001b[0;34m(\u001b[0m\u001b[0misinstance\u001b[0m\u001b[0;34m(\u001b[0m\u001b[0motro\u001b[0m\u001b[0;34m,\u001b[0m \u001b[0mint\u001b[0m\u001b[0;34m)\u001b[0m\u001b[0;34m)\u001b[0m\u001b[0;34m:\u001b[0m\u001b[0;34m\u001b[0m\u001b[0;34m\u001b[0m\u001b[0m\n\u001b[1;32m     60\u001b[0m         \u001b[0;32mreturn\u001b[0m \u001b[0mself\u001b[0m\u001b[0;34m.\u001b[0m\u001b[0m__matriz_mult\u001b[0m\u001b[0;34m(\u001b[0m\u001b[0mself\u001b[0m\u001b[0;34m,\u001b[0m\u001b[0;32mNone\u001b[0m\u001b[0;34m,\u001b[0m\u001b[0motro\u001b[0m\u001b[0;34m)\u001b[0m\u001b[0;34m\u001b[0m\u001b[0;34m\u001b[0m\u001b[0m\n",
            "\u001b[0;32m<ipython-input-75-e12b41629a19>\u001b[0m in \u001b[0;36m__verificar_matriz_mult\u001b[0;34m(self, matriz1, matriz2)\u001b[0m\n\u001b[1;32m     41\u001b[0m     \u001b[0;32mif\u001b[0m\u001b[0;34m(\u001b[0m\u001b[0misinstance\u001b[0m\u001b[0;34m(\u001b[0m\u001b[0mmatriz1\u001b[0m\u001b[0;34m,\u001b[0m \u001b[0mMatriz\u001b[0m\u001b[0;34m)\u001b[0m \u001b[0;32mand\u001b[0m \u001b[0misinstance\u001b[0m\u001b[0;34m(\u001b[0m\u001b[0mmatriz2\u001b[0m\u001b[0;34m,\u001b[0m \u001b[0mMatriz\u001b[0m\u001b[0;34m)\u001b[0m\u001b[0;34m)\u001b[0m\u001b[0;34m:\u001b[0m\u001b[0;34m\u001b[0m\u001b[0;34m\u001b[0m\u001b[0m\n\u001b[1;32m     42\u001b[0m         \u001b[0;32mif\u001b[0m\u001b[0;34m(\u001b[0m\u001b[0mmatriz1\u001b[0m\u001b[0;34m.\u001b[0m\u001b[0mm\u001b[0m \u001b[0;34m!=\u001b[0m \u001b[0mmatriz2\u001b[0m\u001b[0;34m.\u001b[0m\u001b[0mn\u001b[0m\u001b[0;34m)\u001b[0m\u001b[0;34m:\u001b[0m\u001b[0;34m\u001b[0m\u001b[0;34m\u001b[0m\u001b[0m\n\u001b[0;32m---> 43\u001b[0;31m           \u001b[0;32mraise\u001b[0m \u001b[0mTypeError\u001b[0m\u001b[0;34m(\u001b[0m\u001b[0;34m\"Multiplicación no válida. Las columnas de la primera matriz no son iguales a las filas de la segunda matriz.\"\u001b[0m\u001b[0;34m)\u001b[0m\u001b[0;34m\u001b[0m\u001b[0;34m\u001b[0m\u001b[0m\n\u001b[0m\u001b[1;32m     44\u001b[0m \u001b[0;34m\u001b[0m\u001b[0m\n\u001b[1;32m     45\u001b[0m   \u001b[0;32mdef\u001b[0m \u001b[0m__str__\u001b[0m\u001b[0;34m(\u001b[0m\u001b[0mself\u001b[0m\u001b[0;34m)\u001b[0m\u001b[0;34m:\u001b[0m\u001b[0;34m\u001b[0m\u001b[0;34m\u001b[0m\u001b[0m\n",
            "\u001b[0;31mTypeError\u001b[0m: Multiplicación no válida. Las columnas de la primera matriz no son iguales a las filas de la segunda matriz."
          ]
        }
      ]
    },
    {
      "cell_type": "code",
      "source": [
        "#ERROR MULTIPLICACION DE TIPOS\n",
        "A * \"STRING\""
      ],
      "metadata": {
        "colab": {
          "base_uri": "https://localhost:8080/",
          "height": 274
        },
        "id": "pvodCz4iFxWr",
        "outputId": "83ca8161-1143-49a1-a98c-ac49805a4d6d"
      },
      "execution_count": null,
      "outputs": [
        {
          "output_type": "error",
          "ename": "TypeError",
          "evalue": "Favor de proporcionar tipos de valaores valaidos.",
          "traceback": [
            "\u001b[0;31m---------------------------------------------------------------------------\u001b[0m",
            "\u001b[0;31mTypeError\u001b[0m                                 Traceback (most recent call last)",
            "\u001b[0;32m<ipython-input-82-39fe4b77b136>\u001b[0m in \u001b[0;36m<cell line: 1>\u001b[0;34m()\u001b[0m\n\u001b[0;32m----> 1\u001b[0;31m \u001b[0mA\u001b[0m \u001b[0;34m*\u001b[0m \u001b[0;34m\"STRING\"\u001b[0m\u001b[0;34m\u001b[0m\u001b[0;34m\u001b[0m\u001b[0m\n\u001b[0m",
            "\u001b[0;32m<ipython-input-75-e12b41629a19>\u001b[0m in \u001b[0;36m__mul__\u001b[0;34m(self, otro)\u001b[0m\n\u001b[1;32m     62\u001b[0m         \u001b[0;32mreturn\u001b[0m \u001b[0mself\u001b[0m\u001b[0;34m.\u001b[0m\u001b[0m__matriz_mult\u001b[0m\u001b[0;34m(\u001b[0m\u001b[0mself\u001b[0m\u001b[0;34m,\u001b[0m\u001b[0motro\u001b[0m\u001b[0;34m)\u001b[0m\u001b[0;34m\u001b[0m\u001b[0;34m\u001b[0m\u001b[0m\n\u001b[1;32m     63\u001b[0m       \u001b[0;32melse\u001b[0m\u001b[0;34m:\u001b[0m\u001b[0;34m\u001b[0m\u001b[0;34m\u001b[0m\u001b[0m\n\u001b[0;32m---> 64\u001b[0;31m         \u001b[0;32mraise\u001b[0m \u001b[0mTypeError\u001b[0m\u001b[0;34m(\u001b[0m\u001b[0;34m\"Favor de proporcionar tipos de valaores valaidos.\"\u001b[0m\u001b[0;34m)\u001b[0m\u001b[0;34m\u001b[0m\u001b[0;34m\u001b[0m\u001b[0m\n\u001b[0m\u001b[1;32m     65\u001b[0m \u001b[0;34m\u001b[0m\u001b[0m\n\u001b[1;32m     66\u001b[0m   \u001b[0;32mdef\u001b[0m \u001b[0m__rmul__\u001b[0m\u001b[0;34m(\u001b[0m\u001b[0mself\u001b[0m\u001b[0;34m,\u001b[0m\u001b[0motro\u001b[0m\u001b[0;34m)\u001b[0m\u001b[0;34m:\u001b[0m\u001b[0;34m\u001b[0m\u001b[0;34m\u001b[0m\u001b[0m\n",
            "\u001b[0;31mTypeError\u001b[0m: Favor de proporcionar tipos de valaores valaidos."
          ]
        }
      ]
    },
    {
      "cell_type": "code",
      "source": [
        "#ERROR SUMA\n",
        "A + B"
      ],
      "metadata": {
        "colab": {
          "base_uri": "https://localhost:8080/",
          "height": 293
        },
        "id": "rMWKAyN2GAmi",
        "outputId": "13695d42-cfdb-4a27-fd57-581280e43d80"
      },
      "execution_count": null,
      "outputs": [
        {
          "output_type": "error",
          "ename": "TypeError",
          "evalue": "No seas menso, si no son de la misma dimensión las matrices no se pueden sumar",
          "traceback": [
            "\u001b[0;31m---------------------------------------------------------------------------\u001b[0m",
            "\u001b[0;31mTypeError\u001b[0m                                 Traceback (most recent call last)",
            "\u001b[0;32m<ipython-input-83-6ff774d85d33>\u001b[0m in \u001b[0;36m<cell line: 2>\u001b[0;34m()\u001b[0m\n\u001b[1;32m      1\u001b[0m \u001b[0;31m#ERROR SUMA\u001b[0m\u001b[0;34m\u001b[0m\u001b[0;34m\u001b[0m\u001b[0m\n\u001b[0;32m----> 2\u001b[0;31m \u001b[0mA\u001b[0m \u001b[0;34m+\u001b[0m \u001b[0mB\u001b[0m\u001b[0;34m\u001b[0m\u001b[0;34m\u001b[0m\u001b[0m\n\u001b[0m",
            "\u001b[0;32m<ipython-input-75-e12b41629a19>\u001b[0m in \u001b[0;36m__add__\u001b[0;34m(self, otro)\u001b[0m\n\u001b[1;32m     75\u001b[0m   \u001b[0;32mdef\u001b[0m \u001b[0m__add__\u001b[0m\u001b[0;34m(\u001b[0m\u001b[0mself\u001b[0m\u001b[0;34m,\u001b[0m\u001b[0motro\u001b[0m\u001b[0;34m)\u001b[0m\u001b[0;34m:\u001b[0m\u001b[0;34m\u001b[0m\u001b[0;34m\u001b[0m\u001b[0m\n\u001b[1;32m     76\u001b[0m     \u001b[0;32mif\u001b[0m\u001b[0;34m(\u001b[0m\u001b[0mself\u001b[0m\u001b[0;34m.\u001b[0m\u001b[0mn\u001b[0m \u001b[0;34m!=\u001b[0m \u001b[0motro\u001b[0m\u001b[0;34m.\u001b[0m\u001b[0mn\u001b[0m \u001b[0;32mor\u001b[0m \u001b[0mself\u001b[0m\u001b[0;34m.\u001b[0m\u001b[0mm\u001b[0m \u001b[0;34m!=\u001b[0m \u001b[0motro\u001b[0m\u001b[0;34m.\u001b[0m\u001b[0mm\u001b[0m\u001b[0;34m)\u001b[0m \u001b[0;34m:\u001b[0m\u001b[0;34m\u001b[0m\u001b[0;34m\u001b[0m\u001b[0m\n\u001b[0;32m---> 77\u001b[0;31m       \u001b[0;32mraise\u001b[0m \u001b[0mTypeError\u001b[0m\u001b[0;34m(\u001b[0m\u001b[0;34m\"No seas menso, si no son de la misma dimensión las matrices no se pueden sumar\"\u001b[0m\u001b[0;34m)\u001b[0m\u001b[0;34m\u001b[0m\u001b[0;34m\u001b[0m\u001b[0m\n\u001b[0m\u001b[1;32m     78\u001b[0m     \u001b[0mresultado\u001b[0m \u001b[0;34m=\u001b[0m \u001b[0;34m[\u001b[0m\u001b[0;34m[\u001b[0m\u001b[0;36m0\u001b[0m \u001b[0;32mfor\u001b[0m \u001b[0m_\u001b[0m \u001b[0;32min\u001b[0m \u001b[0mrange\u001b[0m\u001b[0;34m(\u001b[0m\u001b[0mself\u001b[0m\u001b[0;34m.\u001b[0m\u001b[0mm\u001b[0m\u001b[0;34m)\u001b[0m\u001b[0;34m]\u001b[0m \u001b[0;32mfor\u001b[0m \u001b[0m_\u001b[0m \u001b[0;32min\u001b[0m \u001b[0mrange\u001b[0m\u001b[0;34m(\u001b[0m\u001b[0mself\u001b[0m\u001b[0;34m.\u001b[0m\u001b[0mn\u001b[0m\u001b[0;34m)\u001b[0m\u001b[0;34m]\u001b[0m\u001b[0;34m\u001b[0m\u001b[0;34m\u001b[0m\u001b[0m\n\u001b[1;32m     79\u001b[0m     \u001b[0;32mfor\u001b[0m \u001b[0mi\u001b[0m \u001b[0;32min\u001b[0m \u001b[0mrange\u001b[0m\u001b[0;34m(\u001b[0m\u001b[0;36m0\u001b[0m\u001b[0;34m,\u001b[0m\u001b[0mself\u001b[0m\u001b[0;34m.\u001b[0m\u001b[0mn\u001b[0m\u001b[0;34m,\u001b[0m\u001b[0;36m1\u001b[0m\u001b[0;34m)\u001b[0m\u001b[0;34m:\u001b[0m\u001b[0;34m\u001b[0m\u001b[0;34m\u001b[0m\u001b[0m\n",
            "\u001b[0;31mTypeError\u001b[0m: No seas menso, si no son de la misma dimensión las matrices no se pueden sumar"
          ]
        }
      ]
    }
  ],
  "metadata": {
    "kernelspec": {
      "display_name": "ing-caract",
      "language": "python",
      "name": "python3"
    },
    "language_info": {
      "codemirror_mode": {
        "name": "ipython",
        "version": 3
      },
      "file_extension": ".py",
      "mimetype": "text/x-python",
      "name": "python",
      "nbconvert_exporter": "python",
      "pygments_lexer": "ipython3",
      "version": "3.8.13"
    },
    "orig_nbformat": 4,
    "colab": {
      "provenance": [],
      "include_colab_link": true
    }
  },
  "nbformat": 4,
  "nbformat_minor": 0
}